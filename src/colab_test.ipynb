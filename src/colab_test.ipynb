{
  "nbformat": 4,
  "nbformat_minor": 0,
  "metadata": {
    "kernelspec": {
      "display_name": "Python 3",
      "language": "python",
      "name": "python3"
    },
    "language_info": {
      "codemirror_mode": {
        "name": "ipython",
        "version": 3
      },
      "file_extension": ".py",
      "mimetype": "text/x-python",
      "name": "python",
      "nbconvert_exporter": "python",
      "pygments_lexer": "ipython3",
      "version": "3.7.4"
    },
    "colab": {
      "name": "colab_test.ipynb",
      "provenance": []
    },
    "accelerator": "GPU"
  },
  "cells": [
    {
      "cell_type": "code",
      "metadata": {
        "id": "POJfkUeHELGD",
        "colab_type": "code",
        "outputId": "bece8140-b9b5-4e35-aa56-205499883be0",
        "colab": {
          "base_uri": "https://localhost:8080/",
          "height": 34
        }
      },
      "source": [
        "from google.colab import drive\n",
        "drive.mount('/content/drive')"
      ],
      "execution_count": 65,
      "outputs": [
        {
          "output_type": "stream",
          "text": [
            "Drive already mounted at /content/drive; to attempt to forcibly remount, call drive.mount(\"/content/drive\", force_remount=True).\n"
          ],
          "name": "stdout"
        }
      ]
    },
    {
      "cell_type": "code",
      "metadata": {
        "id": "ZWk4rHFeGXuJ",
        "colab_type": "code",
        "colab": {}
      },
      "source": [
        "import os\n",
        "\n",
        "DATA_DIR = '/content/drive/My Drive/proto_data/'\n",
        "PICKLED_DIR = os.path.join(DATA_DIR, 'pickled/')\n",
        "PREDICTIONS_DIR = os.path.join(DATA_DIR, 'model_predictions/')\n",
        "#CONLLU_DIR = os.path.join(DATA_DIR, 'WSJ_conllus/')\n",
        "#MODEL_DIR = '../saved_models/'\n",
        "\n",
        "PROTO_TSV = os.path.join(DATA_DIR, 'protoroles_eng_pb_08302015.tsv')\n",
        "#GLOVE_FILE = {'100': os.path.join(DATA_DIR, 'glove.6B.100d.txt') }\n",
        "\n",
        "SPLITS = ['train', 'dev', 'test'] \n",
        "\n",
        "NUM_DEP_RELS = 6\n",
        "\n",
        "PROPERTIES = ['instigation', 'volition', 'awareness', 'sentient',\n",
        "'exists_as_physical', 'existed_before', 'existed_during', 'existed_after',\n",
        "'created', 'destroyed', 'predicate_changed_argument', 'change_of_state', \n",
        "'changes_possession', 'change_of_location', 'stationary', 'location_of_event', \n",
        "'makes_physical_contact', 'manipulated_by_another']\n",
        "\n",
        "PAD_TOKEN = '<pad>'\n",
        "UNK_TOKEN = '<unk>'\n",
        "\n",
        "weights_path = '/content/drive/My Drive/proto_data/weights.tch'\n",
        "original_weights_path = '/content/drive/My Drive/proto_data/original_weights.tch'\n"
      ],
      "execution_count": 0,
      "outputs": []
    },
    {
      "cell_type": "code",
      "metadata": {
        "id": "oUBxnzAlVE9E",
        "colab_type": "code",
        "colab": {}
      },
      "source": [
        "import sys\n",
        "sys.path.insert(0, '/content/drive/My Drive/proto_modules')"
      ],
      "execution_count": 0,
      "outputs": []
    },
    {
      "cell_type": "code",
      "metadata": {
        "id": "50wGdMdn8tTO",
        "colab_type": "code",
        "outputId": "fbfe69b0-efa2-44c4-89d4-2be9f503f3bb",
        "colab": {
          "base_uri": "https://localhost:8080/",
          "height": 34
        }
      },
      "source": [
        "from collections import defaultdict\n",
        "import os\n",
        "import pickle\n",
        "from tqdm import tqdm\n",
        "import random\n",
        "import math\n",
        "\n",
        "import pandas as pd\n",
        "import numpy as np\n",
        "import matplotlib as mpl\n",
        "from matplotlib import pyplot as plt\n",
        "import torch\n",
        "import torch.nn as nn\n",
        "import torch.nn.functional as F\n",
        "from torch.optim import Adam, SGD, AdamW, LBFGS\n",
        "import scipy as sp\n",
        "\n",
        "device = torch.device(\"cuda:0\" if torch.cuda.is_available() else \"cpu\")\n",
        "print('device: ', device)\n",
        "\n",
        "#import data_utils"
      ],
      "execution_count": 68,
      "outputs": [
        {
          "output_type": "stream",
          "text": [
            "device:  cuda:0\n"
          ],
          "name": "stdout"
        }
      ]
    },
    {
      "cell_type": "code",
      "metadata": {
        "id": "Y4IAS8EuYvxT",
        "colab_type": "code",
        "colab": {}
      },
      "source": [
        "from torch import unsqueeze\n",
        "import torch.nn as nn\n",
        "import torch.nn.functional as F\n",
        "from torch.nn.utils.rnn import pad_packed_sequence, \\\n",
        "        pack_padded_sequence, pad_sequence\n",
        "\n",
        "\n",
        "class Attention(nn.Module):\n",
        "  def __init__(self,\n",
        "               n_properties=None,\n",
        "               specific_size=None):\n",
        "    super(Attention, self).__init__()\n",
        "\n",
        "    self.n_properties = n_properties\n",
        "\n",
        "    self.layer_norm = nn.LayerNorm(self.n_properties * specific_size)\n",
        "\n",
        "  def forward(self, x):\n",
        "    B = x.shape[0]\n",
        "\n",
        "    x = x.view(B, self.n_properties, -1) # (B, n_props, size_specific)\n",
        "\n",
        "    attn_scores = torch.bmm(x, torch.transpose(x, 2, 1)) # (B, n_props, n_props)\n",
        "    dists = F.softmax(attn_scores, -1)\n",
        "    attn_weighted_sum = torch.bmm(dists, x)\n",
        "\n",
        "    x = x + attn_weighted_sum\n",
        "\n",
        "    x = self.layer_norm(x.view(B, -1))\n",
        "\n",
        "    return x\n",
        "\n",
        "\n",
        "class SPRL(nn.Module):\n",
        "    def __init__(self,\n",
        "            vocab_size=None,\n",
        "            emb_size=None,\n",
        "            h_size=None,\n",
        "            shared_size=None,\n",
        "            padding_idx=None,\n",
        "            emb_np=None,\n",
        "            properties=None,\n",
        "            use_attention=False,\n",
        "            use_lstm=False,\n",
        "            direction_feature=False,\n",
        "            train_jointly=False,\n",
        "            eye=False,\n",
        "            updates_are_logits=False,\n",
        "            sent_avg=False,\n",
        "            use_shared_rep=False,\n",
        "            use_dep_rels=False,\n",
        "            use_updates=False):\n",
        "        super(SPRL, self).__init__()\n",
        "\n",
        "        self.properties = properties\n",
        "        self.n_properties = len(properties)\n",
        "        self.direction_feature = direction_feature\n",
        "        self.train_jointly = train_jointly\n",
        "        self.use_shared_rep = use_shared_rep\n",
        "        self.use_dep_rels = use_dep_rels\n",
        "        self.use_updates = use_updates\n",
        "\n",
        "        self.word_emb = nn.Embedding(\n",
        "                vocab_size,\n",
        "                emb_size,\n",
        "                padding_idx=padding_idx)\n",
        "        self.word_emb.weight.data.copy_(torch.Tensor(emb_np))\n",
        "        self.word_emb.weight.requires_grad = False\n",
        "\n",
        "        self.lstm = None\n",
        "        if use_lstm:\n",
        "          self.use_lstm = True\n",
        "          directions = 2\n",
        "          self.lstm = MyLSTM(\n",
        "              emb_size=emb_size,\n",
        "              h_size=h_size,\n",
        "              directions=directions)\n",
        "\n",
        "          concatenated_embs_size = 2*(directions*h_size)\n",
        "        \n",
        "        else:\n",
        "          concatenated_embs_size = (2*emb_size) + int(direction_feature)\n",
        "          self.sent_avg = sent_avg\n",
        "          if self.sent_avg:\n",
        "            concatenated_embs_size += emb_size # While testing pred, head, and average sent embedding\n",
        "        if self.use_dep_rels:\n",
        "          concatenated_embs_size += NUM_DEP_RELS\n",
        "\n",
        "        # self.attention = None\n",
        "        # if not use_attention:\n",
        "        shared_size = concatenated_embs_size\n",
        "        #shared_size = self.n_properties\n",
        "        if self.use_shared_rep:\n",
        "          self.shared = nn.Sequential(\n",
        "              nn.Linear(concatenated_embs_size, shared_size, bias=True),\n",
        "              nn.ReLU(),\n",
        "              )\n",
        "          self.prop_specific = nn.Sequential(\n",
        "              nn.Linear(shared_size, self.n_properties, bias=True),\n",
        "          )\n",
        "        else:\n",
        "          print('\\nNO shared representation!\\n')\n",
        "          self.shared = lambda x: x # identity func\n",
        "          self.prop_specific = nn.Sequential(\n",
        "              nn.Linear(concatenated_embs_size, self.n_properties, bias=True),\n",
        "          )\n",
        "        \n",
        "        # else: \n",
        "        #   self.attention = True\n",
        "        #   self.first_guess = nn.Sequential(\n",
        "        #       nn.Linear(concatenated_embs_size, self.n_properties, bias=True),\n",
        "        #       )\n",
        "        \n",
        "        self.updates= None\n",
        "        self.eye = eye\n",
        "        if self.use_updates:\n",
        "          self.updates_are_logits = updates_are_logits \n",
        "          \n",
        "          self.updates = nn.Linear(self.n_properties, self.n_properties, bias=False)\n",
        "          \n",
        "\n",
        "          if self.eye:\n",
        "            self.updates.weight.data -= (torch.eye(self.n_properties) * self.updates.weight.data)\n",
        "\n",
        "\n",
        "    def forward(self, sents, sent_lens, preds, heads, rels, arg_begin_end, updates=True):\n",
        "\n",
        "        # Sort the sentences so that the LSTM can process properly\n",
        "        B, _, = sents.shape\n",
        "\n",
        "\n",
        "        if self.lstm != None: # i.e., use lstm\n",
        "          lens_sorted = sent_lens\n",
        "          sents_sorted = sents\n",
        "          indices = None\n",
        "          if(len(sents) > 1):\n",
        "              lens_sorted, indices = torch.sort(lens_sorted, descending=True)\n",
        "              lens_sorted = lens_sorted.to(device)\n",
        "              indices = indices.to(device)\n",
        "              sents_sorted = sents_sorted.index_select(0, indices).to(device)\n",
        "          w_embs = self.word_emb(sents_sorted)\n",
        "          packed_lstm_input = pack_padded_sequence(\n",
        "                  w_embs, lens_sorted, batch_first=True)\n",
        "\n",
        "          lstm_outs = self.lstm(packed_lstm_input, indices)\n",
        "\n",
        "          pred_reps = lstm_outs[np.arange(B), preds] # expecting (B, h_size)\n",
        "          head_reps = lstm_outs[np.arange(B), heads] # same as above\n",
        "        else: # no lstm, just MLP\n",
        "          w_embs = self.word_emb(sents)\n",
        "          pred_reps = w_embs[np.arange(B), preds] # expecting (B, h_size)\n",
        "          head_reps = w_embs[np.arange(B), heads] # same as above\n",
        "          if self.sent_avg:\n",
        "            sent_avg = w_embs.mean(dim=1)\n",
        "\n",
        "        pred_head_cat = torch.cat([pred_reps, head_reps], dim=-1)\n",
        "\n",
        "        if self.direction_feature:\n",
        "          head_before_pred = torch.unsqueeze((preds > heads), -1).float() # (B,)\n",
        "          pred_head_cat = torch.cat([pred_head_cat, head_before_pred], dim=-1) # (B, 2*h_size)\n",
        "          if self.sent_avg:\n",
        "            pred_head_cat = torch.cat([pred_head_cat, sent_avg], dim=-1) # (B, 2*h_size)\n",
        "        if self.use_dep_rels:\n",
        "          rels_one_hot = torch.zeros(B, NUM_DEP_RELS).to(device)\n",
        "          rels_one_hot.scatter_(1, rels.unsqueeze(-1), torch.ones(rels_one_hot.shape).to(device))\n",
        "          pred_head_cat = torch.cat([pred_head_cat, rels_one_hot], dim=-1) # (B, 2*h_size)\n",
        "\n",
        "        x = pred_head_cat\n",
        "        # if self.attention == None:\n",
        "        x = pred_head_cat # Experimenting with having no shared and learned rep\n",
        "        x = self.shared(x) # (B, size_shared) # For lstm\n",
        "\n",
        "        x = self.prop_specific(x)\n",
        "\n",
        "        # x = self.first_guess(x)\n",
        "        if updates and self.updates != None:\n",
        "          #x_up = self.updates(x)\n",
        "          x_up = self.updates((x.sign() + 1) / 2)\n",
        "\n",
        "          if self.updates_are_logits:\n",
        "            logits = x_up\n",
        "          else:\n",
        "            logits = x + x_up # Residual model\n",
        "        else:\n",
        "          logits = x\n",
        "\n",
        "        return logits\n",
        "\n",
        "    def predict(self, logits):\n",
        "        # That is to say, predict 0 if logit < 0 and 1 if logit >= 0\n",
        "        predictions = (logits.sign() + 1) / 2\n",
        "\n",
        "        return predictions\n",
        "\n",
        "\n",
        "class MyLSTM(nn.Module):\n",
        "    def __init__(self,\n",
        "            emb_size=None,\n",
        "            h_size=None,\n",
        "            directions=None):\n",
        "        super(MyLSTM, self).__init__()\n",
        "\n",
        "        self.lstm = nn.LSTM(\n",
        "                input_size=emb_size,    \n",
        "                hidden_size=h_size,\n",
        "                num_layers=1,\n",
        "                bidirectional=(directions == 2),\n",
        "                batch_first=True,\n",
        "                dropout=0.,\n",
        "                bias=True)\n",
        "        \n",
        "        self.lstm_drop = nn.Dropout(0.)\n",
        "\n",
        "    def forward(self, packed_lstm_input, indices):\n",
        "        outputs, _ = self.lstm(packed_lstm_input)\n",
        "        outputs, _ = pad_packed_sequence(outputs, batch_first=True)\n",
        "\n",
        "        # Unsort sentences to return to proper alignment with labels\n",
        "        if len(outputs) > 1:\n",
        "            outputs = unsort(outputs, indices)\n",
        "          \n",
        "        outputs = self.lstm_drop(outputs)\n",
        "\n",
        "        return outputs\n",
        "\n",
        " \n",
        "def unsort(batch, indices):\n",
        "    indices_inverted = torch.argsort(indices)\n",
        "    batch = batch.index_select(0, indices_inverted)\n",
        "    return batch"
      ],
      "execution_count": 0,
      "outputs": []
    },
    {
      "cell_type": "code",
      "metadata": {
        "id": "ahYg0bRx-Xdc",
        "colab_type": "code",
        "colab": {}
      },
      "source": [
        "\n",
        "def train(args, model, X, y):\n",
        "    epochs = args['epochs']\n",
        "    batch_size = args['batch_size']\n",
        "    lr = args['lr']\n",
        "\n",
        "    # Data loaders\n",
        "    loader_train = data_loader(X['train'], y['train'],\n",
        "            batch_size=batch_size, shuffle_idx=True)\n",
        "    n_train_batches = math.ceil(len(X['train']) / batch_size)\n",
        "    n_dev_batches = math.ceil(len(X['dev']) / batch_size)\n",
        "\n",
        "    if not args['train_jointly']: # Training prop-specific lstms\n",
        "      torch.save(model.state_dict(), original_weights_path)\n",
        "\n",
        "      all_test_predictions = []\n",
        "      for prop_i, p in enumerate(PROPERTIES):\n",
        "        model.load_state_dict(torch.load(original_weights_path))\n",
        "\n",
        "        # Actual training happens here\n",
        "        model, training_losses, dev_losses, steps = train_loop(args, model, loader_train, n_train_batches, n_dev_batches, prop_i=prop_i)\n",
        "\n",
        "        # Evaluation starts here, best weights were returned as 'model' from train_loop\n",
        "        y_dev = get_prop_specific_labels(y['dev'], prop_i)\n",
        "        predictions = get_test_predictions(model, X['dev'], y_dev)\n",
        "        test_predictions = get_test_predictions(model, X['dev'], y_dev)\n",
        "        all_test_predictions.append(test_predictions)\n",
        "\n",
        "      all_test_predictions = torch.cat(all_test_predictions, dim=-1)\n",
        "    else:\n",
        "      model, training_losses, dev_losses, steps = train_loop(args, model, loader_train, n_train_batches, n_dev_batches)\n",
        "      all_test_predictions = get_test_predictions(model, X['dev'], y['dev'])\n",
        "\n",
        "    if args['model_name'] != '':\n",
        "      predictions_path = os.path.join(PREDICTIONS_DIR, args['model_name'])\n",
        "      if os.path.exists(predictions_path):\n",
        "        new_name = input(f\"Predictions for {args['model_name']} already exist. New name: \")\n",
        "        predictions_path = os.path.join(PREDICTIONS_DIR, new_name) # If same, means overwrite so OK\n",
        "      with open(predictions_path, 'wb') as f:\n",
        "        pickle.dump(all_test_predictions, f)\n",
        "\n",
        "    fig, ax = plt.subplots(nrows=2, ncols=1)\n",
        "\n",
        "    ax[0].plot(np.arange(len(training_losses)), np.array(training_losses), color='orange')\n",
        "    ax[1].plot(np.arange(0, steps+1, n_train_batches), np.array(dev_losses), color='blue')\n",
        "    fig.show()\n",
        "    \n",
        "    return\n",
        "\n",
        "\n",
        "def get_prop_specific_labels(y, prop_i):\n",
        "  y = [np.array([label[prop_i]]) for label in y]\n",
        "  return y\n",
        "\n",
        "\n",
        "def train_loop(args, model, loader_train, n_train_batches, n_dev_batches, prop_i=None):\n",
        "    epochs = args['epochs']\n",
        "    batch_size = args['batch_size']\n",
        "    lr = args['lr']\n",
        "    opt = Adam(model.parameters(), lr=lr, betas=[0.9, 0.999])\n",
        "\n",
        "    if args['show_weights']:\n",
        "      for name, param in model.named_parameters():\n",
        "        if 'updates' in name and 'weight' in name:\n",
        "          original_updates_weights = param.detach().clone()\n",
        "    \n",
        "    training_losses = []\n",
        "    dev_losses = [4] # Meaningless first number, to avoid calculating dev loss before training\n",
        "    steps = 0\n",
        "    cma = 0 # cumulative moving average of training loss\n",
        "    try:\n",
        "      prev_best = 0.0\n",
        "      phase_marker = 0\n",
        "      for e in range(epochs):\n",
        "        model.train()\n",
        "        steps_ = 0\n",
        "        stop_training_lower = e >= args['stop_training_lower']\n",
        "        if phase_marker == 0 and stop_training_lower:\n",
        "          phase_marker = 1\n",
        "\n",
        "        for b in tqdm(\n",
        "                range(n_train_batches), \n",
        "                ascii=True, \n",
        "                desc=f'Epoch {e+1}/{epochs} progress',\n",
        "                position=0,\n",
        "                leave=True,\n",
        "                ncols=80):\n",
        "          opt.zero_grad()\n",
        "          sents, sent_lens, preds, heads, rels, arg_begin_end, labels = next(loader_train)\n",
        "\n",
        "          if not args['train_jointly']:\n",
        "            labels = labels[:, prop_i].unsqueeze(-1)#\n",
        "\n",
        "          # if args['use_attention']:\n",
        "          if phase_marker == 1:\n",
        "            model.load_state_dict(torch.load(weights_path))\n",
        "            phase_marker = 2\n",
        "          \n",
        "          if stop_training_lower and args['use_updates']:              \n",
        "            for p in model.parameters():\n",
        "              p.requires_grad = False\n",
        "            for p in model.updates.parameters():\n",
        "              p.requires_grad = True\n",
        "            \n",
        "            logits = model(sents, sent_lens, preds, heads, rels, arg_begin_end, updates=True)\n",
        "\n",
        "          # Normal step\n",
        "          if not stop_training_lower:\n",
        "            if args['use_updates']:\n",
        "              for p in model.parameters():\n",
        "                p.requires_grad = True\n",
        "              for p in model.updates.parameters():\n",
        "                p.requires_grad = False\n",
        "\n",
        "            logits = model(sents, sent_lens, preds, heads, rels, arg_begin_end, updates=False)\n",
        "            # if b == n_train_batches - 1:\n",
        "            #   print(logits[0])\n",
        "          \n",
        "          # else: # Not attention\n",
        "          #   logits = model(sents, sent_lens, preds, heads, rels, arg_begin_end)\n",
        "\n",
        "          loss = bce_loss(logits, labels)\n",
        "          loss.backward()\n",
        "          if model.eye and stop_training_lower:\n",
        "            for name, param in model.named_parameters():\n",
        "              if 'updates' in name and 'weight' in name:\n",
        "                param.grad *= (torch.ones(param.data.shape) - torch.eye(param.data.shape[0])).to(device)\n",
        "                break\n",
        "\n",
        "          opt.step()\n",
        "          steps_ += 1\n",
        "          cma = (loss.item() + (steps_-1) * cma) / steps_\n",
        "          training_losses.append(cma)\n",
        "        # end of batch loop\n",
        "        steps += steps_\n",
        "\n",
        "        if not args['train_jointly']:\n",
        "          y_dev = get_prop_specific_labels(y['dev'], prop_i)\n",
        "          predictions = get_test_predictions(model, X['dev'], y_dev, updates=(phase_marker != 0))\n",
        "          results, metrics = evaluate(args, predictions, y_dev)\n",
        "        else:\n",
        "          predictions = get_test_predictions(model, X['dev'], y['dev'], updates=(phase_marker != 0))\n",
        "          results, metrics = evaluate(args, predictions, y['dev'])\n",
        "\n",
        "        F, precision, recall = metrics['F'], metrics['precision'], metrics['recall']\n",
        "        #dev_losses.append(np.mean(dev_loss))\n",
        "        dev_losses.append(-1)\n",
        "\n",
        "        print(f\"Epoch {e}, F={F*100:.2f}, p={precision*100:.2f}, r={recall*100:.2f}\")\n",
        "\n",
        "        if F > prev_best:\n",
        "          prev_best = F\n",
        "          torch.save(model.state_dict(), weights_path)\n",
        "\n",
        "        if args['show_weights'] and stop_training_lower and e % 5 == 0:\n",
        "          for name, param in model.named_parameters():\n",
        "            if 'updates' in name and 'weight' in name:\n",
        "              updates_weights = param\n",
        "          with torch.no_grad():\n",
        "            #show_weights((updates_weights - original_updates_weights).cpu(), properties=model.properties)\n",
        "            show_weights((updates_weights).cpu(), properties=model.properties)\n",
        "    except KeyboardInterrupt:\n",
        "        pass\n",
        "    # End of train loop\n",
        "\n",
        "    model.load_state_dict(torch.load(weights_path)) # Get best weights back\n",
        "\n",
        "    return model, training_losses, dev_losses, steps\n",
        "\n",
        "\n",
        "def show_weights(weights, properties=None, cmap='RdBu'):\n",
        "    fig, ax = plt.subplots()\n",
        "\n",
        "    norm = None\n",
        "    if cmap == 'RdBu':\n",
        "      vmax = weights.max()\n",
        "      vmin = weights.min()\n",
        "      if type(weights) == type(torch.randn(1)):\n",
        "        vmax = vmax.item()\n",
        "        vmin = vmin.item()\n",
        "      norm = MidpointNormalize(vmin=vmin, vmax=vmax, midpoint=0)\n",
        "\n",
        "    ax.set_xticks(np.arange(len(properties)))\n",
        "    ax.set_yticks(np.arange(len(properties)))\n",
        "    ax.set_xticklabels(properties)\n",
        "    ax.set_yticklabels(properties)\n",
        "    plt.setp(ax.get_xticklabels(), rotation=45, ha='right', rotation_mode=\"anchor\")\n",
        "\n",
        "    if norm != None:\n",
        "      plt.imshow(weights, cmap=cmap, norm=norm)\n",
        "    else:\n",
        "      plt.imshow(weights, cmap=cmap)\n",
        "    cbar = plt.colorbar()\n",
        "\n",
        "    return\n",
        "\n",
        "\n",
        "def bce_loss(logits, labels):\n",
        "    # Expected labels : (B, num_properties)\n",
        "    loss = F.binary_cross_entropy_with_logits(logits, labels)\n",
        "    return loss\n",
        "\n",
        "\n",
        "def data_loader(X, y, batch_size=None, shuffle_idx=False):\n",
        "    data = list(zip(X, y))\n",
        "    idx = list(range(len(data)))\n",
        "    while True:\n",
        "        if shuffle_idx:\n",
        "            random.shuffle(idx) # In-place shuffle\n",
        "        \n",
        "        for span in idx_spans(idx, batch_size):\n",
        "            batch = [data[i] for i in span]\n",
        "            yield prepare_batch(batch)\n",
        "\n",
        "\n",
        "def idx_spans(idx, span_size):\n",
        "    for i in range(0, len(idx), span_size):\n",
        "        yield idx[i:i+span_size]\n",
        "\n",
        "\n",
        "def prepare_batch(batch):\n",
        "    # batch[i] = X, y\n",
        "    batch_size = len(batch)\n",
        "    sent_lens = torch.LongTensor([len(x[0][0]) for x in batch])\n",
        "    max_length = torch.max(sent_lens).item()\n",
        "    n_properties = len(batch[0][1])\n",
        "\n",
        "    # Zero is padding index\n",
        "    sents = torch.zeros((batch_size, max_length)).long().to(device)\n",
        "    preds = torch.zeros(batch_size).long().to(device)\n",
        "    heads = torch.zeros(batch_size).long().to(device)\n",
        "    rels = torch.zeros(batch_size).long().to(device)\n",
        "    arg_begin_end = torch.zeros(batch_size, 2).long().to(device)\n",
        "    labels = torch.zeros(batch_size, n_properties).to(device)\n",
        "\n",
        "    for i, (X_batch, y_batch) in enumerate(batch):\n",
        "        sent, (pred_idx, head_idx), head_rel_i, (arg_begin, arg_end) = X_batch\n",
        "        sents[i,:len(sent)] = torch.LongTensor(sent)\n",
        "        preds[i] = pred_idx\n",
        "        heads[i] = head_idx\n",
        "        rels[i] = head_rel_i\n",
        "        arg_begin_end[i] = torch.LongTensor([arg_begin, arg_end])\n",
        "        labels[i] = torch.tensor(y_batch)\n",
        "\n",
        "    return sents, sent_lens, preds, heads, rels, arg_begin_end, labels\n",
        "\n",
        "\n",
        "            #old dev eval code\n",
        "          # with torch.no_grad():\n",
        "          #   model.eval()\n",
        "          #   tp = 0\n",
        "          #   fp = 0\n",
        "          #   fn = 0\n",
        "          #   dev_loss = 0\n",
        "          #   for b in tqdm(range(n_dev_batches), ascii=True, desc=f'Evaluating progress', ncols=80, position=0, leave=True):\n",
        "          #     sents, sent_lens, preds, heads, labels = next(loader_dev)\n",
        "          #     results_, metrics_, dev_loss_ = evaluate(args, model, sents, sent_lens, preds, heads, labels)\n",
        "          #     tp += results_['tp']\n",
        "          #     fp += results_['fp']\n",
        "          #     fn += results_['fn']\n",
        "          #     dev_loss += dev_loss_.item()"
      ],
      "execution_count": 0,
      "outputs": []
    },
    {
      "cell_type": "code",
      "metadata": {
        "id": "WyxihDMkczmY",
        "colab_type": "code",
        "colab": {}
      },
      "source": [
        "# def evaluate(args, model, sents, sent_lens, preds, heads, labels):\n",
        "#     # Get predictions\n",
        "#     logits = model(sents, sent_lens, preds, heads)\n",
        "#     dev_loss = bce_loss(logits, labels)\n",
        "#     predictions = model.predict(logits)\n",
        "\n",
        "#     predictions, labels = predictions.cpu().numpy(), labels.cpu().numpy()\n",
        "#     results, metrics = get_results_metrics(predictions, labels)\n",
        "\n",
        "#     return results, metrics, dev_loss\n",
        "\n",
        "\n",
        "def evaluate_with_prop_breakdown(args, predictions, labels):\n",
        "  #expecting predictions and labels to have shape (n_test, 18)\n",
        "  labels = np.array(labels)\n",
        "\n",
        "  if labels.shape[1] != len(PROPERTIES):\n",
        "    print('Labels should be (n_test, 18) for a prop breakdown')\n",
        "    raise Exception\n",
        "  \n",
        "  prop_specific_metrics = {}\n",
        "  for prop_i, p in enumerate(PROPERTIES):\n",
        "    predictions_p = predictions[:, prop_i]\n",
        "    labels_p = labels[:, prop_i]\n",
        "\n",
        "    results, metrics = evaluate(args, predictions_p, labels_p)\n",
        "\n",
        "    prop_specific_metrics[p] = metrics\n",
        "  \n",
        "  return prop_specific_metrics\n",
        "\n",
        "\n",
        "def evaluate(args, predictions, labels):\n",
        "  # Get predictions\n",
        "  labels = np.array(labels)\n",
        "  predictions, labels = predictions.cpu().numpy(), labels\n",
        "  results, metrics = get_results_metrics(predictions, labels)\n",
        "\n",
        "  return results, metrics\n",
        "\n",
        "\n",
        "def get_results_metrics(predictions, labels):\n",
        "  n_correct = (predictions == labels).astype(int).sum()\n",
        "\n",
        "  # Precision, Recall\n",
        "  eq = predictions == labels\n",
        "  neq = predictions != labels\n",
        "\n",
        "  pos_preds = predictions == 1\n",
        "  neg_preds = predictions == 0\n",
        "\n",
        "  tp = np.where(pos_preds, eq, 0).astype(int).sum()\n",
        "  fp = np.where(pos_preds, neq, 0).astype(int).sum()\n",
        "  fn = np.where(neg_preds, neq, 0).astype(int).sum()\n",
        "  \n",
        "  results = {\n",
        "          'tp': tp,\n",
        "          'fp': fp,\n",
        "          'fn': fn\n",
        "          }\n",
        "\n",
        "  F, precision, recall = F_precision_recall(tp, fp, fn)\n",
        "  metrics = {'F': F, 'precision': precision, 'recall': recall}\n",
        "\n",
        "  return results, metrics\n",
        "\n",
        "\n",
        "def F_precision_recall(tp, fp, fn):\n",
        "  if tp + fp > 0.:\n",
        "      precision = tp / (tp + fp)\n",
        "  else:\n",
        "      precision = 0.\n",
        "\n",
        "  if tp + fn > 0.:\n",
        "      recall = tp / (tp + fn)\n",
        "  else:\n",
        "      recall = 0.\n",
        "\n",
        "  if precision + recall > 0.:\n",
        "      F = (2 * precision * recall) / (precision + recall)\n",
        "  else:\n",
        "      F = 0.\n",
        "\n",
        "  return F, precision, recall\n",
        "\n",
        "\n",
        "def micro_average(results):\n",
        "  tp, fp, fn = 0, 0, 0\n",
        "  for v in results.values():\n",
        "      tp += v['tp']\n",
        "      fp += v['fp']\n",
        "      fn += v['fn']\n",
        "  \n",
        "  return F_precision_recall(tp, fp, fn)\n"
      ],
      "execution_count": 0,
      "outputs": []
    },
    {
      "cell_type": "code",
      "metadata": {
        "id": "Ec5YvM4uHvsc",
        "colab_type": "code",
        "colab": {}
      },
      "source": [
        "def get_data(args):\n",
        "    df = pd.read_csv(PROTO_TSV, sep='\\t')\n",
        "\n",
        "    # Sentences\n",
        "    sent_ids = set(df['Sentence.ID'].tolist())\n",
        "    sents_path = os.path.join(PICKLED_DIR, 'sents.pkl')\n",
        "    sents = None\n",
        "    with open(sents_path, 'rb') as f:\n",
        "      sents = pickle.load(f)\n",
        "\n",
        "    # Dependency data\n",
        "    # dependencies_path = os.path.join(PICKLED_DIR, 'dependencies.pkl')\n",
        "    # with open(dependencies_path, 'rb') as f:\n",
        "    #     deps, deps_just_tokens = pickle.load(f)  \n",
        "    # sents['dependencies'] = deps\n",
        "    # sents['deps_just_tokens'] = deps_just_tokens\n",
        "\n",
        "\n",
        "    # Instances\n",
        "    path = os.path.join(PICKLED_DIR, 'instances.pkl')\n",
        "    proto_instances = None\n",
        "    possible = None # Data to compare to SPRL paper\n",
        "    with open(path, 'rb') as f:\n",
        "      proto_instances, possible = pickle.load(f)\n",
        "\n",
        "    # Word embedding data\n",
        "    w2e = None\n",
        "    path = os.path.join(PICKLED_DIR, f\"glove_{args['glove_d']}.pkl\")\n",
        "    with open(path, 'rb') as f:\n",
        "      w2e = pickle.load(f)\n",
        "\n",
        "    w2i, i2w = None, None\n",
        "    emb_np = None\n",
        "    X, y = None, None\n",
        "    dicts_path = os.path.join(PICKLED_DIR, 'dicts.pkl')\n",
        "    with open(dicts_path, 'rb') as f:\n",
        "        w2i, i2w = pickle.load(f)\n",
        "    \n",
        "    emb_np_path = os.path.join(PICKLED_DIR, 'emb_np.pkl')\n",
        "    with open(emb_np_path, 'rb') as f:\n",
        "        emb_np = pickle.load(f)\n",
        "    \n",
        "    #lstm_data_path = os.path.join(PICKLED_DIR, 'lstm_data.pkl')\n",
        "    lstm_data_path = os.path.join(PICKLED_DIR, 'lstm_data_modified.pkl')\n",
        "    with open(lstm_data_path, 'rb') as f:\n",
        "        X, y = pickle.load(f)\n",
        "\n",
        "    return {'df': df, \n",
        "            'proto_instances': proto_instances, \n",
        "            'possible': possible,\n",
        "            'sents': sents,\n",
        "            'w2e': w2e,\n",
        "            'sent_ids': sent_ids,\n",
        "            'lstm_data': (X,y),\n",
        "            'dicts': (w2i, i2w),\n",
        "            'emb_np': emb_np}\n"
      ],
      "execution_count": 0,
      "outputs": []
    },
    {
      "cell_type": "code",
      "metadata": {
        "id": "zNVWhg68C0iN",
        "colab_type": "code",
        "colab": {}
      },
      "source": [
        "# From stackoverflow: https://stackoverflow.com/questions/7404116/defining-the-midpoint-of-a-colormap-in-matplotlib\n",
        "\n",
        "class MidpointNormalize(mpl.colors.Normalize):\n",
        "    def __init__(self, vmin, vmax, midpoint=0, clip=False):\n",
        "        self.midpoint = midpoint\n",
        "        mpl.colors.Normalize.__init__(self, vmin, vmax, clip)\n",
        "\n",
        "    def __call__(self, value, clip=None):\n",
        "        normalized_min = max(0, 1 / 2 * (1 - abs((self.midpoint - self.vmin) / (self.midpoint - self.vmax))))\n",
        "        normalized_max = min(1, 1 / 2 * (1 + abs((self.vmax - self.midpoint) / (self.midpoint - self.vmin))))\n",
        "        normalized_mid = 0.5\n",
        "        x, y = [self.vmin, self.midpoint, self.vmax], [normalized_min, normalized_mid, normalized_max]\n",
        "        return sp.ma.masked_array(sp.interp(value, x, y))"
      ],
      "execution_count": 0,
      "outputs": []
    },
    {
      "cell_type": "code",
      "metadata": {
        "id": "1On2T0rcKKwo",
        "colab_type": "code",
        "colab": {}
      },
      "source": [
        "def bootstrap_conf_interval(predictions, labels, B=10000, predictions_inferior=None):\n",
        "  predictions = predictions.cpu().numpy() # (n_test,18)\n",
        "\n",
        "  paired_test = False\n",
        "  if predictions_inferior != None:\n",
        "    paired_test = True\n",
        "    predictions_inferior = predictions_inferior.cpu().numpy()\n",
        "\n",
        "  N = predictions.shape[0]\n",
        "  indices = np.arange(N)\n",
        "  \n",
        "  labels = np.array(labels)\n",
        "\n",
        "  bs_samples = []\n",
        "  for b in tqdm(range(B), desc='Getting bootstrap samples', ncols=80, position=0, leave=True):\n",
        "    idx = np.random.choice(indices, N)\n",
        "    curr_preds = predictions[idx]\n",
        "    curr_labels = labels[idx]\n",
        "    results, metrics = get_results_metrics(curr_preds, curr_labels)\n",
        "    micro_f1 = metrics['F']\n",
        "\n",
        "    if paired_test:\n",
        "      curr_preds = predictions_inferior[idx]\n",
        "      curr_labels = labels[idx]\n",
        "      results, metrics = get_results_metrics(curr_preds, curr_labels)\n",
        "      micro_f1_inferior = metrics['F']\n",
        "\n",
        "      bs_samples.append(micro_f1 - micro_f1_inferior)\n",
        "    else:\n",
        "      bs_samples.append(micro_f1)\n",
        "  \n",
        "  bs_samples = np.array(bs_samples)\n",
        "\n",
        "  if paired_test:\n",
        "    prob_greater = 1 - np.mean(bs_samples > 0)\n",
        "    print(f'P > : {prob_greater}')\n",
        "\n",
        "  plt.hist(bs_samples)\n",
        "  \n",
        "  return np.quantile(bs_samples, [0.025, 0.975])\n"
      ],
      "execution_count": 0,
      "outputs": []
    },
    {
      "cell_type": "code",
      "metadata": {
        "id": "H7fJuKWbmsJ2",
        "colab_type": "code",
        "colab": {}
      },
      "source": [
        "def get_test_predictions(model, X_test, y_test, batch_size=100, updates=True):\n",
        "\n",
        "  loader_test = data_loader(X_test, y_test, batch_size=batch_size, shuffle_idx=False)\n",
        "\n",
        "  n_batches = math.ceil(len(X_test) / batch_size)\n",
        "\n",
        "  predictions = []\n",
        "  with torch.no_grad():\n",
        "    model.eval()\n",
        "    for b in tqdm(range(n_batches), ascii=True, desc=f'Getting test predictions', ncols=80, position=0, leave=True):\n",
        "      sents, sent_lens, preds, heads, rels, arg_begin_end, _ = next(loader_test)\n",
        "      logits = model(sents, sent_lens, preds, heads, rels, arg_begin_end, updates=updates)\n",
        "      predictions.append(model.predict(logits))\n",
        "  \n",
        "  predictions = torch.cat(predictions, dim=0)\n",
        "\n",
        "  return predictions"
      ],
      "execution_count": 0,
      "outputs": []
    },
    {
      "cell_type": "code",
      "metadata": {
        "id": "erm6Foa6jWJg",
        "colab_type": "code",
        "colab": {}
      },
      "source": [
        "def co_occurrences(y_train, normalize=False):\n",
        "  n_props = y_train[0].shape[0]\n",
        "\n",
        "  co_occur = np.zeros((n_props, n_props))\n",
        "  anti_occur = np.zeros((n_props, n_props))\n",
        "  both_negative = np.zeros((n_props, n_props))\n",
        "  row_pos_col_neg = np.zeros((n_props, n_props))\n",
        "  row_neg_col_pos = np.zeros((n_props, n_props))\n",
        "\n",
        "  positive_counts = np.zeros(n_props)\n",
        "  for labels in y_train:\n",
        "    for i in range(n_props):\n",
        "      if labels[i] == 1:\n",
        "        positive_counts[i] += 1\n",
        "        for j in range(i+1, n_props):\n",
        "          if labels[j] == 1:\n",
        "            co_occur[i,j] += 1\n",
        "\n",
        "        for j in range(n_props):\n",
        "          if labels[j] == 0:\n",
        "            row_pos_col_neg[i,j] += 1\n",
        "        \n",
        "      else: # labels[i] == 0\n",
        "        for j in range(i+1, n_props):\n",
        "          if labels[j] == 0:\n",
        "            both_negative[i,j] += 1\n",
        "        \n",
        "        for j in range(n_props):\n",
        "          if labels[j] == 1:\n",
        "            row_neg_col_pos[i,j] += 1\n",
        "  \n",
        "  negative_counts = len(y_train) - positive_counts\n",
        "\n",
        "  # Mirror over diagonal\n",
        "  co_occur = co_occur + np.transpose(co_occur)\n",
        "  both_negative = both_negative + np.transpose(both_negative)\n",
        "  #anti_occur = anti_occur + np.transpose(anti_occur)\n",
        "\n",
        "  def normalize_rows(array):\n",
        "    array /= np.sum(array, axis=-1, keepdims=True)\n",
        "\n",
        "  positive_counts = np.array(positive_counts)\n",
        "\n",
        "  #Alt def in marginals\n",
        "  # marginals = positive_counts / positive_counts.sum()\n",
        "  # print(marginals)\n",
        "\n",
        "  #co_occur = co_occur + np.diag(positive_counts)\n",
        "\n",
        "  # for i, p_i in enumerate(PROPERTIES):\n",
        "  #   for j, p_j in enumerate(PROPERTIES):\n",
        "  #     if co_occur[i,j] == 0:\n",
        "  #       print(f'{p_i} never occurs with {p_j}')\n",
        "  # MORAL OF STORY: ONLY 0-COOCCURRENCES ARE WITH CREATED AND DESTROYED IN RELATION TO EXISTENCE RELATIONS\n",
        "\n",
        "  #co_occur = co_occur + np.diag(positive_counts)\n",
        "\n",
        "  normalizing_term = co_occur.sum()\n",
        "  pij = co_occur / normalizing_term\n",
        "\n",
        "  #Supposing pij is correct...\n",
        "  marginals = pij.sum(-1)\n",
        "\n",
        "  outer = marginals * np.expand_dims(marginals, -1)\n",
        "\n",
        "  div = pij / outer\n",
        "  np.fill_diagonal(div, 1)\n",
        "\n",
        "  pmi = np.log(div)\n",
        "\n",
        "  #print(f'Max of outer is is {np.max(outer)}')\n",
        "  print(f'Max of pmi is {np.max(pmi)}')\n",
        "  print(f'Min of pmi is {np.min(pmi)}')\n",
        "\n",
        "  #breakpoint()\n",
        "\n",
        "\n",
        "  #print(f'Now max of anti_occur is {np.max(anti_occur)}, compared to {np.max(negative_counts)}')\n",
        "  \n",
        "\n",
        "  return co_occur, both_negative, row_pos_col_neg, row_neg_col_pos, pmi\n"
      ],
      "execution_count": 0,
      "outputs": []
    },
    {
      "cell_type": "code",
      "metadata": {
        "id": "2gFE7vvQhI3u",
        "colab_type": "code",
        "colab": {}
      },
      "source": [
        "def fetch_test_predictions(model_name: str):\n",
        "  predictions_path = os.path.join(PREDICTIONS_DIR, model_name)\n",
        "  with open(predictions_path, 'rb') as f:\n",
        "    all_test_predictions = pickle.load(f)\n",
        "  return all_test_predictions"
      ],
      "execution_count": 0,
      "outputs": []
    },
    {
      "cell_type": "code",
      "metadata": {
        "id": "dUbR-mhy-dRb",
        "colab_type": "code",
        "outputId": "16de3303-5d29-4fd4-c613-ed1e5b031009",
        "colab": {
          "base_uri": "https://localhost:8080/",
          "height": 1000
        }
      },
      "source": [
        "args = {\n",
        "    'epochs': 50,\n",
        "    'seed': 7,\n",
        "    'lr': 1e-3,\n",
        "    'batch_size': 100,\n",
        "    'glove_d': 300,\n",
        "    'model_name': 'simplelogreg_plusupdates',\n",
        "\n",
        "    'use_updates': True,\n",
        "    'show_weights': True,\n",
        "    'stop_training_lower': 30,\n",
        "    'eye':True,\n",
        "    'updates_are_logits':False,\n",
        "\n",
        "    'use_lstm': False,\n",
        "    'h_size': 300,\n",
        "    'train_jointly': True, # Train the lstm jointly\n",
        "\n",
        "    'use_shared_rep': False, # Only applies to non-attention net\n",
        "    'use_dep_rels': True,\n",
        "\n",
        "    'sent_avg':True # Makes sense for any non-lstm model\n",
        "}\n",
        "if not args['use_updates']:\n",
        "  args['stop_training_lower'] = args['epochs']\n",
        "  args['show_weights'] = False\n",
        "\n",
        "seed = args['seed']\n",
        "\n",
        "random.seed(seed)\n",
        "torch.manual_seed(seed)\n",
        "np.random.seed(seed)\n",
        "\n",
        "data = get_data(args)\n",
        "\n",
        "w2i, i2w = data['dicts']\n",
        "emb_np = data['emb_np']\n",
        "X, y = data['lstm_data']\n",
        "\n",
        "# co_occur, both_negative, row_pos_col_neg, row_neg_col_pos, pmi = co_occurrences(y['train'], normalize=False)\n",
        "# show_weights(pmi, properties=PROPERTIES)\n",
        "# show_weights(co_occur, properties=PROPERTIES, cmap='Greens')\n",
        "# show_weights(co_occur + both_negative, properties=PROPERTIES, cmap='Greens')\n",
        "#show_weights((row_pos_col_neg + row_neg_col_pos) /2, properties=PROPERTIES, cmap='Reds')\n",
        "#show_weights(row_neg_col_pos, properties=PROPERTIES, cmap='Reds')\n",
        "# show_weights((co_occur + both_negative) - (row_pos_col_neg + row_neg_col_pos), properties=PROPERTIES)\n",
        "#show_weights(co_occur - (row_pos_col_neg + row_neg_col_pos), properties=PROPERTIES)\n",
        "#breakpoint()\n",
        "\n",
        "do_train = 1\n",
        "if do_train:\n",
        "  model = SPRL(\n",
        "      vocab_size=len(w2i),\n",
        "      emb_size=int(args['glove_d']),\n",
        "      h_size=args['h_size'],\n",
        "      #shared_size=args['shared_size'],\n",
        "      padding_idx=w2i[PAD_TOKEN],\n",
        "      emb_np=emb_np,\n",
        "      properties=PROPERTIES if args['train_jointly'] else ['one_prop'],\n",
        "      use_updates=args['use_updates'],\n",
        "      use_lstm=args['use_lstm'],\n",
        "      direction_feature=not args['use_lstm'],\n",
        "      train_jointly=args['train_jointly'],\n",
        "      eye=args['eye'],\n",
        "      updates_are_logits=args['updates_are_logits'],\n",
        "      sent_avg=False if args['use_lstm'] else args['sent_avg'],\n",
        "      use_shared_rep=args['use_shared_rep'],\n",
        "      use_dep_rels=args['use_dep_rels'])\n",
        "  model.to(device)\n",
        "\n",
        "  train(args, model, X, y)\n",
        "\n",
        "preds_sup_name = 'simplelogreg_plusupdates'\n",
        "\n",
        "preds_sup = fetch_test_predictions(preds_sup_name)\n",
        "#CI = bootstrap_conf_interval(preds_sup, y['dev'])\n",
        "#print(CI)\n",
        "\n",
        "#preds_inf = fetch_test_predictions('lstms_fullpower_notjointly')\n",
        "#CI = bootstrap_conf_interval(preds_inf, y['dev'])\n",
        "#print(CI)\n",
        "\n",
        "# CI = bootstrap_conf_interval(preds_sup, y['dev'], predictions_inferior=preds_inf)\n",
        "\n",
        "# print(f'\\n Confidence interval : {CI}\\n')\n",
        "\n",
        "prop_specific_metrics = evaluate_with_prop_breakdown(args, preds_sup, y['dev'])\n",
        "\n",
        "array = []\n",
        "for k, v in prop_specific_metrics.items():\n",
        "    array.append([f\"{v['F']*100:.2f}\", f\"{v['precision']*100:.2f}\", f\"{v['recall']*100:.2f}\"])\n",
        "\n",
        "array = np.array(array)\n",
        "columns = ['F1', 'Precision', 'Recall']\n",
        "dfm = pd.DataFrame(array, index=PROPERTIES, columns=columns)\n",
        "tables_path = os.path.join(DATA_DIR, 'tables.txt')\n",
        "with open(tables_path, 'w') as f:\n",
        "  f.write(preds_sup_name)\n",
        "  f.write(dfm.to_latex())\n",
        "\n",
        "\n",
        "print('Done!')\n",
        "\n"
      ],
      "execution_count": 197,
      "outputs": [
        {
          "output_type": "stream",
          "text": [
            "Epoch 1/50 progress:   6%|#4                     | 5/78 [00:00<00:01, 49.26it/s]"
          ],
          "name": "stderr"
        },
        {
          "output_type": "stream",
          "text": [
            "\n",
            "NO shared representation!\n",
            "\n"
          ],
          "name": "stdout"
        },
        {
          "output_type": "stream",
          "text": [
            "Epoch 1/50 progress: 100%|######################| 78/78 [00:01<00:00, 52.83it/s]\n",
            "Getting test predictions: 100%|#################| 10/10 [00:00<00:00, 63.69it/s]\n",
            "Epoch 2/50 progress:   8%|#7                     | 6/78 [00:00<00:01, 51.49it/s]"
          ],
          "name": "stderr"
        },
        {
          "output_type": "stream",
          "text": [
            "Epoch 0, F=73.28, p=79.78, r=67.75\n"
          ],
          "name": "stdout"
        },
        {
          "output_type": "stream",
          "text": [
            "Epoch 2/50 progress: 100%|######################| 78/78 [00:01<00:00, 50.91it/s]\n",
            "Getting test predictions: 100%|#################| 10/10 [00:00<00:00, 61.85it/s]\n",
            "Epoch 3/50 progress:   8%|#7                     | 6/78 [00:00<00:01, 50.08it/s]"
          ],
          "name": "stderr"
        },
        {
          "output_type": "stream",
          "text": [
            "Epoch 1, F=76.91, p=81.67, r=72.67\n"
          ],
          "name": "stdout"
        },
        {
          "output_type": "stream",
          "text": [
            "Epoch 3/50 progress: 100%|######################| 78/78 [00:01<00:00, 51.77it/s]\n",
            "Getting test predictions: 100%|#################| 10/10 [00:00<00:00, 58.47it/s]\n",
            "Epoch 4/50 progress:   8%|#7                     | 6/78 [00:00<00:01, 50.85it/s]"
          ],
          "name": "stderr"
        },
        {
          "output_type": "stream",
          "text": [
            "Epoch 2, F=78.10, p=82.78, r=73.91\n"
          ],
          "name": "stdout"
        },
        {
          "output_type": "stream",
          "text": [
            "Epoch 4/50 progress: 100%|######################| 78/78 [00:01<00:00, 52.36it/s]\n",
            "Getting test predictions: 100%|#################| 10/10 [00:00<00:00, 62.91it/s]\n",
            "Epoch 5/50 progress:   6%|#4                     | 5/78 [00:00<00:01, 47.43it/s]"
          ],
          "name": "stderr"
        },
        {
          "output_type": "stream",
          "text": [
            "Epoch 3, F=79.24, p=82.85, r=75.94\n"
          ],
          "name": "stdout"
        },
        {
          "output_type": "stream",
          "text": [
            "Epoch 5/50 progress: 100%|######################| 78/78 [00:01<00:00, 51.79it/s]\n",
            "Getting test predictions: 100%|#################| 10/10 [00:00<00:00, 63.21it/s]\n",
            "Epoch 6/50 progress:   8%|#7                     | 6/78 [00:00<00:01, 50.42it/s]"
          ],
          "name": "stderr"
        },
        {
          "output_type": "stream",
          "text": [
            "Epoch 4, F=79.69, p=83.07, r=76.58\n"
          ],
          "name": "stdout"
        },
        {
          "output_type": "stream",
          "text": [
            "Epoch 6/50 progress: 100%|######################| 78/78 [00:01<00:00, 51.54it/s]\n",
            "Getting test predictions: 100%|#################| 10/10 [00:00<00:00, 60.16it/s]\n",
            "Epoch 7/50 progress:   6%|#4                     | 5/78 [00:00<00:01, 48.93it/s]"
          ],
          "name": "stderr"
        },
        {
          "output_type": "stream",
          "text": [
            "Epoch 5, F=79.85, p=82.58, r=77.29\n"
          ],
          "name": "stdout"
        },
        {
          "output_type": "stream",
          "text": [
            "Epoch 7/50 progress: 100%|######################| 78/78 [00:01<00:00, 52.29it/s]\n",
            "Getting test predictions: 100%|#################| 10/10 [00:00<00:00, 59.94it/s]\n",
            "Epoch 8/50 progress:   6%|#4                     | 5/78 [00:00<00:01, 45.84it/s]"
          ],
          "name": "stderr"
        },
        {
          "output_type": "stream",
          "text": [
            "Epoch 6, F=80.02, p=82.45, r=77.73\n"
          ],
          "name": "stdout"
        },
        {
          "output_type": "stream",
          "text": [
            "Epoch 8/50 progress: 100%|######################| 78/78 [00:01<00:00, 51.21it/s]\n",
            "Getting test predictions: 100%|#################| 10/10 [00:00<00:00, 63.72it/s]\n",
            "Epoch 9/50 progress:   8%|#7                     | 6/78 [00:00<00:01, 51.23it/s]"
          ],
          "name": "stderr"
        },
        {
          "output_type": "stream",
          "text": [
            "Epoch 7, F=79.79, p=82.56, r=77.20\n"
          ],
          "name": "stdout"
        },
        {
          "output_type": "stream",
          "text": [
            "Epoch 9/50 progress: 100%|######################| 78/78 [00:01<00:00, 51.85it/s]\n",
            "Getting test predictions: 100%|#################| 10/10 [00:00<00:00, 60.28it/s]\n",
            "Epoch 10/50 progress:   8%|#6                    | 6/78 [00:00<00:01, 52.26it/s]"
          ],
          "name": "stderr"
        },
        {
          "output_type": "stream",
          "text": [
            "Epoch 8, F=79.68, p=82.81, r=76.78\n"
          ],
          "name": "stdout"
        },
        {
          "output_type": "stream",
          "text": [
            "Epoch 10/50 progress: 100%|#####################| 78/78 [00:01<00:00, 52.69it/s]\n",
            "Getting test predictions: 100%|#################| 10/10 [00:00<00:00, 62.57it/s]\n",
            "Epoch 11/50 progress:   6%|#4                    | 5/78 [00:00<00:01, 49.70it/s]"
          ],
          "name": "stderr"
        },
        {
          "output_type": "stream",
          "text": [
            "Epoch 9, F=79.71, p=82.41, r=77.18\n"
          ],
          "name": "stdout"
        },
        {
          "output_type": "stream",
          "text": [
            "Epoch 11/50 progress: 100%|#####################| 78/78 [00:01<00:00, 52.23it/s]\n",
            "Getting test predictions: 100%|#################| 10/10 [00:00<00:00, 63.24it/s]\n",
            "Epoch 12/50 progress:   8%|#6                    | 6/78 [00:00<00:01, 52.91it/s]"
          ],
          "name": "stderr"
        },
        {
          "output_type": "stream",
          "text": [
            "Epoch 10, F=79.44, p=82.01, r=77.02\n"
          ],
          "name": "stdout"
        },
        {
          "output_type": "stream",
          "text": [
            "Epoch 12/50 progress: 100%|#####################| 78/78 [00:01<00:00, 52.48it/s]\n",
            "Getting test predictions: 100%|#################| 10/10 [00:00<00:00, 62.38it/s]\n",
            "Epoch 13/50 progress:   6%|#4                    | 5/78 [00:00<00:01, 47.38it/s]"
          ],
          "name": "stderr"
        },
        {
          "output_type": "stream",
          "text": [
            "Epoch 11, F=79.39, p=81.77, r=77.15\n"
          ],
          "name": "stdout"
        },
        {
          "output_type": "stream",
          "text": [
            "Epoch 13/50 progress: 100%|#####################| 78/78 [00:01<00:00, 50.01it/s]\n",
            "Getting test predictions: 100%|#################| 10/10 [00:00<00:00, 51.85it/s]\n",
            "Epoch 14/50 progress:   6%|#4                    | 5/78 [00:00<00:01, 48.51it/s]"
          ],
          "name": "stderr"
        },
        {
          "output_type": "stream",
          "text": [
            "Epoch 12, F=79.24, p=81.94, r=76.71\n"
          ],
          "name": "stdout"
        },
        {
          "output_type": "stream",
          "text": [
            "Epoch 14/50 progress: 100%|#####################| 78/78 [00:01<00:00, 50.91it/s]\n",
            "Getting test predictions: 100%|#################| 10/10 [00:00<00:00, 61.83it/s]\n",
            "Epoch 15/50 progress:   8%|#6                    | 6/78 [00:00<00:01, 52.81it/s]"
          ],
          "name": "stderr"
        },
        {
          "output_type": "stream",
          "text": [
            "Epoch 13, F=79.09, p=81.46, r=76.86\n"
          ],
          "name": "stdout"
        },
        {
          "output_type": "stream",
          "text": [
            "Epoch 15/50 progress: 100%|#####################| 78/78 [00:01<00:00, 52.26it/s]\n",
            "Getting test predictions: 100%|#################| 10/10 [00:00<00:00, 62.10it/s]\n",
            "Epoch 16/50 progress:   6%|#4                    | 5/78 [00:00<00:01, 46.91it/s]"
          ],
          "name": "stderr"
        },
        {
          "output_type": "stream",
          "text": [
            "Epoch 14, F=79.10, p=81.23, r=77.07\n"
          ],
          "name": "stdout"
        },
        {
          "output_type": "stream",
          "text": [
            "Epoch 16/50 progress: 100%|#####################| 78/78 [00:01<00:00, 52.16it/s]\n",
            "Getting test predictions: 100%|#################| 10/10 [00:00<00:00, 64.32it/s]\n",
            "Epoch 17/50 progress:   6%|#4                    | 5/78 [00:00<00:01, 48.84it/s]"
          ],
          "name": "stderr"
        },
        {
          "output_type": "stream",
          "text": [
            "Epoch 15, F=78.97, p=81.18, r=76.87\n"
          ],
          "name": "stdout"
        },
        {
          "output_type": "stream",
          "text": [
            "Epoch 17/50 progress: 100%|#####################| 78/78 [00:01<00:00, 51.05it/s]\n",
            "Getting test predictions: 100%|#################| 10/10 [00:00<00:00, 63.57it/s]\n",
            "Epoch 18/50 progress:   8%|#6                    | 6/78 [00:00<00:01, 52.48it/s]"
          ],
          "name": "stderr"
        },
        {
          "output_type": "stream",
          "text": [
            "Epoch 16, F=78.63, p=80.75, r=76.62\n"
          ],
          "name": "stdout"
        },
        {
          "output_type": "stream",
          "text": [
            "Epoch 18/50 progress: 100%|#####################| 78/78 [00:01<00:00, 51.98it/s]\n",
            "Getting test predictions: 100%|#################| 10/10 [00:00<00:00, 65.55it/s]\n",
            "Epoch 19/50 progress:   8%|#6                    | 6/78 [00:00<00:01, 51.52it/s]"
          ],
          "name": "stderr"
        },
        {
          "output_type": "stream",
          "text": [
            "Epoch 17, F=78.47, p=80.52, r=76.53\n"
          ],
          "name": "stdout"
        },
        {
          "output_type": "stream",
          "text": [
            "Epoch 19/50 progress: 100%|#####################| 78/78 [00:01<00:00, 53.19it/s]\n",
            "Getting test predictions: 100%|#################| 10/10 [00:00<00:00, 63.35it/s]\n",
            "Epoch 20/50 progress:   8%|#6                    | 6/78 [00:00<00:01, 53.45it/s]"
          ],
          "name": "stderr"
        },
        {
          "output_type": "stream",
          "text": [
            "Epoch 18, F=78.09, p=80.26, r=76.03\n"
          ],
          "name": "stdout"
        },
        {
          "output_type": "stream",
          "text": [
            "Epoch 20/50 progress: 100%|#####################| 78/78 [00:01<00:00, 52.88it/s]\n",
            "Getting test predictions: 100%|#################| 10/10 [00:00<00:00, 61.30it/s]\n",
            "Epoch 21/50 progress:   8%|#6                    | 6/78 [00:00<00:01, 53.46it/s]"
          ],
          "name": "stderr"
        },
        {
          "output_type": "stream",
          "text": [
            "Epoch 19, F=78.09, p=79.96, r=76.31\n"
          ],
          "name": "stdout"
        },
        {
          "output_type": "stream",
          "text": [
            "Epoch 21/50 progress: 100%|#####################| 78/78 [00:01<00:00, 52.34it/s]\n",
            "Getting test predictions: 100%|#################| 10/10 [00:00<00:00, 57.81it/s]\n",
            "Epoch 22/50 progress:   8%|#6                    | 6/78 [00:00<00:01, 51.92it/s]"
          ],
          "name": "stderr"
        },
        {
          "output_type": "stream",
          "text": [
            "Epoch 20, F=77.93, p=79.98, r=75.98\n"
          ],
          "name": "stdout"
        },
        {
          "output_type": "stream",
          "text": [
            "Epoch 22/50 progress: 100%|#####################| 78/78 [00:01<00:00, 52.17it/s]\n",
            "Getting test predictions: 100%|#################| 10/10 [00:00<00:00, 62.62it/s]\n",
            "Epoch 23/50 progress:   8%|#6                    | 6/78 [00:00<00:01, 51.65it/s]"
          ],
          "name": "stderr"
        },
        {
          "output_type": "stream",
          "text": [
            "Epoch 21, F=77.78, p=79.56, r=76.07\n"
          ],
          "name": "stdout"
        },
        {
          "output_type": "stream",
          "text": [
            "Epoch 23/50 progress: 100%|#####################| 78/78 [00:01<00:00, 52.83it/s]\n",
            "Getting test predictions: 100%|#################| 10/10 [00:00<00:00, 64.51it/s]\n",
            "Epoch 24/50 progress:   8%|#6                    | 6/78 [00:00<00:01, 53.73it/s]"
          ],
          "name": "stderr"
        },
        {
          "output_type": "stream",
          "text": [
            "Epoch 22, F=77.58, p=79.35, r=75.89\n"
          ],
          "name": "stdout"
        },
        {
          "output_type": "stream",
          "text": [
            "Epoch 24/50 progress: 100%|#####################| 78/78 [00:01<00:00, 52.18it/s]\n",
            "Getting test predictions: 100%|#################| 10/10 [00:00<00:00, 62.60it/s]\n",
            "Epoch 25/50 progress:   6%|#4                    | 5/78 [00:00<00:01, 49.70it/s]"
          ],
          "name": "stderr"
        },
        {
          "output_type": "stream",
          "text": [
            "Epoch 23, F=77.70, p=79.13, r=76.33\n"
          ],
          "name": "stdout"
        },
        {
          "output_type": "stream",
          "text": [
            "Epoch 25/50 progress: 100%|#####################| 78/78 [00:01<00:00, 51.88it/s]\n",
            "Getting test predictions: 100%|#################| 10/10 [00:00<00:00, 59.52it/s]\n",
            "Epoch 26/50 progress:   8%|#6                    | 6/78 [00:00<00:01, 53.50it/s]"
          ],
          "name": "stderr"
        },
        {
          "output_type": "stream",
          "text": [
            "Epoch 24, F=77.40, p=78.98, r=75.89\n"
          ],
          "name": "stdout"
        },
        {
          "output_type": "stream",
          "text": [
            "Epoch 26/50 progress: 100%|#####################| 78/78 [00:01<00:00, 51.93it/s]\n",
            "Getting test predictions: 100%|#################| 10/10 [00:00<00:00, 64.64it/s]\n",
            "Epoch 27/50 progress:   8%|#6                    | 6/78 [00:00<00:01, 53.41it/s]"
          ],
          "name": "stderr"
        },
        {
          "output_type": "stream",
          "text": [
            "Epoch 25, F=77.28, p=79.00, r=75.63\n"
          ],
          "name": "stdout"
        },
        {
          "output_type": "stream",
          "text": [
            "Epoch 27/50 progress: 100%|#####################| 78/78 [00:01<00:00, 53.25it/s]\n",
            "Getting test predictions: 100%|#################| 10/10 [00:00<00:00, 63.52it/s]\n",
            "Epoch 28/50 progress:   8%|#6                    | 6/78 [00:00<00:01, 48.86it/s]"
          ],
          "name": "stderr"
        },
        {
          "output_type": "stream",
          "text": [
            "Epoch 26, F=77.13, p=78.74, r=75.58\n"
          ],
          "name": "stdout"
        },
        {
          "output_type": "stream",
          "text": [
            "Epoch 28/50 progress: 100%|#####################| 78/78 [00:01<00:00, 52.65it/s]\n",
            "Getting test predictions: 100%|#################| 10/10 [00:00<00:00, 63.31it/s]\n",
            "Epoch 29/50 progress:   6%|#4                    | 5/78 [00:00<00:01, 44.27it/s]"
          ],
          "name": "stderr"
        },
        {
          "output_type": "stream",
          "text": [
            "Epoch 27, F=77.03, p=78.87, r=75.27\n"
          ],
          "name": "stdout"
        },
        {
          "output_type": "stream",
          "text": [
            "Epoch 29/50 progress: 100%|#####################| 78/78 [00:01<00:00, 52.65it/s]\n",
            "Getting test predictions: 100%|#################| 10/10 [00:00<00:00, 57.14it/s]\n",
            "Epoch 30/50 progress:   6%|#4                    | 5/78 [00:00<00:01, 49.61it/s]"
          ],
          "name": "stderr"
        },
        {
          "output_type": "stream",
          "text": [
            "Epoch 28, F=77.09, p=78.69, r=75.56\n"
          ],
          "name": "stdout"
        },
        {
          "output_type": "stream",
          "text": [
            "Epoch 30/50 progress: 100%|#####################| 78/78 [00:01<00:00, 53.38it/s]\n",
            "Getting test predictions: 100%|#################| 10/10 [00:00<00:00, 58.35it/s]\n",
            "Epoch 31/50 progress:   5%|#1                    | 4/78 [00:00<00:01, 37.55it/s]"
          ],
          "name": "stderr"
        },
        {
          "output_type": "stream",
          "text": [
            "Epoch 29, F=76.74, p=78.66, r=74.92\n"
          ],
          "name": "stdout"
        },
        {
          "output_type": "stream",
          "text": [
            "Epoch 31/50 progress: 100%|#####################| 78/78 [00:01<00:00, 54.11it/s]\n",
            "Getting test predictions: 100%|#################| 10/10 [00:00<00:00, 59.75it/s]\n",
            "/usr/local/lib/python3.6/dist-packages/ipykernel_launcher.py:12: DeprecationWarning: scipy.interp is deprecated and will be removed in SciPy 2.0.0, use numpy.interp instead\n",
            "  if sys.path[0] == '':\n",
            "Epoch 32/50 progress:   0%|                              | 0/78 [00:00<?, ?it/s]"
          ],
          "name": "stderr"
        },
        {
          "output_type": "stream",
          "text": [
            "Epoch 30, F=80.25, p=82.02, r=78.56\n"
          ],
          "name": "stdout"
        },
        {
          "output_type": "stream",
          "text": [
            "Epoch 32/50 progress: 100%|#####################| 78/78 [00:01<00:00, 53.68it/s]\n",
            "Getting test predictions: 100%|#################| 10/10 [00:00<00:00, 63.25it/s]\n",
            "Epoch 33/50 progress:   8%|#6                    | 6/78 [00:00<00:01, 52.60it/s]"
          ],
          "name": "stderr"
        },
        {
          "output_type": "stream",
          "text": [
            "Epoch 31, F=80.15, p=82.07, r=78.32\n"
          ],
          "name": "stdout"
        },
        {
          "output_type": "stream",
          "text": [
            "Epoch 33/50 progress: 100%|#####################| 78/78 [00:01<00:00, 54.34it/s]\n",
            "Getting test predictions: 100%|#################| 10/10 [00:00<00:00, 64.01it/s]\n",
            "Epoch 34/50 progress:   6%|#4                    | 5/78 [00:00<00:01, 47.88it/s]"
          ],
          "name": "stderr"
        },
        {
          "output_type": "stream",
          "text": [
            "Epoch 32, F=80.13, p=82.09, r=78.26\n"
          ],
          "name": "stdout"
        },
        {
          "output_type": "stream",
          "text": [
            "Epoch 34/50 progress: 100%|#####################| 78/78 [00:01<00:00, 53.61it/s]\n",
            "Getting test predictions: 100%|#################| 10/10 [00:00<00:00, 64.39it/s]\n",
            "Epoch 35/50 progress:   8%|#6                    | 6/78 [00:00<00:01, 53.35it/s]"
          ],
          "name": "stderr"
        },
        {
          "output_type": "stream",
          "text": [
            "Epoch 33, F=80.14, p=82.19, r=78.19\n"
          ],
          "name": "stdout"
        },
        {
          "output_type": "stream",
          "text": [
            "Epoch 35/50 progress: 100%|#####################| 78/78 [00:01<00:00, 50.35it/s]\n",
            "Getting test predictions: 100%|#################| 10/10 [00:00<00:00, 63.28it/s]\n",
            "Epoch 36/50 progress:   8%|#6                    | 6/78 [00:00<00:01, 53.50it/s]"
          ],
          "name": "stderr"
        },
        {
          "output_type": "stream",
          "text": [
            "Epoch 34, F=80.10, p=82.18, r=78.14\n"
          ],
          "name": "stdout"
        },
        {
          "output_type": "stream",
          "text": [
            "Epoch 36/50 progress: 100%|#####################| 78/78 [00:01<00:00, 54.97it/s]\n",
            "Getting test predictions: 100%|#################| 10/10 [00:00<00:00, 65.07it/s]\n",
            "Epoch 37/50 progress:   8%|#6                    | 6/78 [00:00<00:01, 52.75it/s]"
          ],
          "name": "stderr"
        },
        {
          "output_type": "stream",
          "text": [
            "Epoch 35, F=80.12, p=82.17, r=78.17\n"
          ],
          "name": "stdout"
        },
        {
          "output_type": "stream",
          "text": [
            "Epoch 37/50 progress: 100%|#####################| 78/78 [00:01<00:00, 55.23it/s]\n",
            "Getting test predictions: 100%|#################| 10/10 [00:00<00:00, 63.00it/s]\n",
            "Epoch 38/50 progress:   8%|#6                    | 6/78 [00:00<00:01, 56.14it/s]"
          ],
          "name": "stderr"
        },
        {
          "output_type": "stream",
          "text": [
            "Epoch 36, F=80.13, p=82.20, r=78.17\n"
          ],
          "name": "stdout"
        },
        {
          "output_type": "stream",
          "text": [
            "Epoch 38/50 progress: 100%|#####################| 78/78 [00:01<00:00, 55.60it/s]\n",
            "Getting test predictions: 100%|#################| 10/10 [00:00<00:00, 66.06it/s]\n",
            "Epoch 39/50 progress:   8%|#6                    | 6/78 [00:00<00:01, 55.12it/s]"
          ],
          "name": "stderr"
        },
        {
          "output_type": "stream",
          "text": [
            "Epoch 37, F=80.14, p=82.30, r=78.10\n"
          ],
          "name": "stdout"
        },
        {
          "output_type": "stream",
          "text": [
            "Epoch 39/50 progress: 100%|#####################| 78/78 [00:01<00:00, 54.93it/s]\n",
            "Getting test predictions: 100%|#################| 10/10 [00:00<00:00, 63.00it/s]\n",
            "Epoch 40/50 progress:   8%|#6                    | 6/78 [00:00<00:01, 54.72it/s]"
          ],
          "name": "stderr"
        },
        {
          "output_type": "stream",
          "text": [
            "Epoch 38, F=80.15, p=82.22, r=78.19\n"
          ],
          "name": "stdout"
        },
        {
          "output_type": "stream",
          "text": [
            "Epoch 40/50 progress: 100%|#####################| 78/78 [00:01<00:00, 55.95it/s]\n",
            "Getting test predictions: 100%|#################| 10/10 [00:00<00:00, 62.54it/s]\n",
            "Epoch 41/50 progress:   6%|#4                    | 5/78 [00:00<00:01, 48.74it/s]"
          ],
          "name": "stderr"
        },
        {
          "output_type": "stream",
          "text": [
            "Epoch 39, F=80.22, p=82.24, r=78.30\n"
          ],
          "name": "stdout"
        },
        {
          "output_type": "stream",
          "text": [
            "Epoch 41/50 progress: 100%|#####################| 78/78 [00:01<00:00, 56.78it/s]\n",
            "Getting test predictions: 100%|#################| 10/10 [00:00<00:00, 66.57it/s]\n",
            "Epoch 42/50 progress:   8%|#6                    | 6/78 [00:00<00:01, 56.62it/s]"
          ],
          "name": "stderr"
        },
        {
          "output_type": "stream",
          "text": [
            "Epoch 40, F=80.19, p=82.24, r=78.24\n"
          ],
          "name": "stdout"
        },
        {
          "output_type": "stream",
          "text": [
            "Epoch 42/50 progress: 100%|#####################| 78/78 [00:01<00:00, 57.61it/s]\n",
            "Getting test predictions: 100%|#################| 10/10 [00:00<00:00, 67.35it/s]\n",
            "Epoch 43/50 progress:   8%|#6                    | 6/78 [00:00<00:01, 52.20it/s]"
          ],
          "name": "stderr"
        },
        {
          "output_type": "stream",
          "text": [
            "Epoch 41, F=80.21, p=82.26, r=78.26\n"
          ],
          "name": "stdout"
        },
        {
          "output_type": "stream",
          "text": [
            "Epoch 43/50 progress: 100%|#####################| 78/78 [00:01<00:00, 57.05it/s]\n",
            "Getting test predictions: 100%|#################| 10/10 [00:00<00:00, 65.53it/s]\n",
            "Epoch 44/50 progress:   8%|#6                    | 6/78 [00:00<00:01, 56.74it/s]"
          ],
          "name": "stderr"
        },
        {
          "output_type": "stream",
          "text": [
            "Epoch 42, F=80.20, p=82.27, r=78.23\n"
          ],
          "name": "stdout"
        },
        {
          "output_type": "stream",
          "text": [
            "Epoch 44/50 progress: 100%|#####################| 78/78 [00:01<00:00, 57.62it/s]\n",
            "Getting test predictions: 100%|#################| 10/10 [00:00<00:00, 65.74it/s]\n",
            "Epoch 45/50 progress:   8%|#6                    | 6/78 [00:00<00:01, 51.58it/s]"
          ],
          "name": "stderr"
        },
        {
          "output_type": "stream",
          "text": [
            "Epoch 43, F=80.19, p=82.23, r=78.24\n"
          ],
          "name": "stdout"
        },
        {
          "output_type": "stream",
          "text": [
            "Epoch 45/50 progress: 100%|#####################| 78/78 [00:01<00:00, 55.59it/s]\n",
            "Getting test predictions: 100%|#################| 10/10 [00:00<00:00, 64.20it/s]\n",
            "Epoch 46/50 progress:   8%|#6                    | 6/78 [00:00<00:01, 50.60it/s]"
          ],
          "name": "stderr"
        },
        {
          "output_type": "stream",
          "text": [
            "Epoch 44, F=80.19, p=82.16, r=78.32\n"
          ],
          "name": "stdout"
        },
        {
          "output_type": "stream",
          "text": [
            "Epoch 46/50 progress: 100%|#####################| 78/78 [00:01<00:00, 55.30it/s]\n",
            "Getting test predictions: 100%|#################| 10/10 [00:00<00:00, 66.66it/s]\n",
            "Epoch 47/50 progress:   8%|#6                    | 6/78 [00:00<00:01, 56.21it/s]"
          ],
          "name": "stderr"
        },
        {
          "output_type": "stream",
          "text": [
            "Epoch 45, F=80.18, p=82.17, r=78.28\n"
          ],
          "name": "stdout"
        },
        {
          "output_type": "stream",
          "text": [
            "Epoch 47/50 progress: 100%|#####################| 78/78 [00:01<00:00, 57.57it/s]\n",
            "Getting test predictions: 100%|#################| 10/10 [00:00<00:00, 62.44it/s]\n",
            "Epoch 48/50 progress:   8%|#6                    | 6/78 [00:00<00:01, 56.25it/s]"
          ],
          "name": "stderr"
        },
        {
          "output_type": "stream",
          "text": [
            "Epoch 46, F=80.15, p=82.12, r=78.26\n"
          ],
          "name": "stdout"
        },
        {
          "output_type": "stream",
          "text": [
            "Epoch 48/50 progress: 100%|#####################| 78/78 [00:01<00:00, 55.45it/s]\n",
            "Getting test predictions: 100%|#################| 10/10 [00:00<00:00, 57.77it/s]\n",
            "Epoch 49/50 progress:   6%|#4                    | 5/78 [00:00<00:01, 49.97it/s]"
          ],
          "name": "stderr"
        },
        {
          "output_type": "stream",
          "text": [
            "Epoch 47, F=80.15, p=82.15, r=78.24\n"
          ],
          "name": "stdout"
        },
        {
          "output_type": "stream",
          "text": [
            "Epoch 49/50 progress: 100%|#####################| 78/78 [00:01<00:00, 55.57it/s]\n",
            "Getting test predictions: 100%|#################| 10/10 [00:00<00:00, 63.74it/s]\n",
            "Epoch 50/50 progress:   8%|#6                    | 6/78 [00:00<00:01, 56.78it/s]"
          ],
          "name": "stderr"
        },
        {
          "output_type": "stream",
          "text": [
            "Epoch 48, F=80.08, p=82.17, r=78.10\n"
          ],
          "name": "stdout"
        },
        {
          "output_type": "stream",
          "text": [
            "Epoch 50/50 progress: 100%|#####################| 78/78 [00:01<00:00, 55.30it/s]\n",
            "Getting test predictions: 100%|#################| 10/10 [00:00<00:00, 60.82it/s]\n",
            "Getting test predictions: 100%|#################| 10/10 [00:00<00:00, 61.81it/s]\n"
          ],
          "name": "stderr"
        },
        {
          "output_type": "stream",
          "text": [
            "Epoch 49, F=80.11, p=82.15, r=78.17\n",
            "Predictions for simplelogreg_plusupdates already exist. New name: simplelogreg_plusupdates\n"
          ],
          "name": "stdout"
        },
        {
          "output_type": "stream",
          "text": [
            "/usr/local/lib/python3.6/dist-packages/torch/storage.py:34: FutureWarning: pickle support for Storage will be removed in 1.5. Use `torch.save` instead\n",
            "  warnings.warn(\"pickle support for Storage will be removed in 1.5. Use `torch.save` instead\", FutureWarning)\n",
            "/usr/local/lib/python3.6/dist-packages/ipykernel_launcher.py:12: DeprecationWarning: scipy.interp is deprecated and will be removed in SciPy 2.0.0, use numpy.interp instead\n",
            "  if sys.path[0] == '':\n"
          ],
          "name": "stderr"
        },
        {
          "output_type": "stream",
          "text": [
            "Done!\n"
          ],
          "name": "stdout"
        },
        {
          "output_type": "display_data",
          "data": {
            "image/png": "[encoded data removed]",
            "text/plain": [
              "<Figure size 432x288 with 2 Axes>"
            ]
          },
          "metadata": {
            "tags": [],
            "needs_background": "light"
          }
        },
        {
          "output_type": "display_data",
          "data": {
            "image/png": "[encoded data removed]",
            "text/plain": [
              "<Figure size 432x288 with 2 Axes>"
            ]
          },
          "metadata": {
            "tags": [],
            "needs_background": "light"
          }
        },
        {
          "output_type": "display_data",
          "data": {
            "image/png": "[encoded data removed]",
            "text/plain": [
              "<Figure size 432x288 with 2 Axes>"
            ]
          },
          "metadata": {
            "tags": [],
            "needs_background": "light"
          }
        },
        {
          "output_type": "display_data",
          "data": {
            "image/png": "[encoded data removed]",
            "text/plain": [
              "<Figure size 432x288 with 2 Axes>"
            ]
          },
          "metadata": {
            "tags": [],
            "needs_background": "light"
          }
        },
        {
          "output_type": "display_data",
          "data": {
            "image/png": "[encoded data removed]",
            "text/plain": [
              "<Figure size 432x288 with 2 Axes>"
            ]
          },
          "metadata": {
            "tags": [],
            "needs_background": "light"
          }
        }
      ]
    }
  ]
}